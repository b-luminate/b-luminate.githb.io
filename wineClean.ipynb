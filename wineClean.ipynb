{
  "nbformat": 4,
  "nbformat_minor": 0,
  "metadata": {
    "colab": {
      "provenance": [],
      "authorship_tag": "ABX9TyOuPTwgoYLc9BMvgHPdfO9i",
      "include_colab_link": true
    },
    "kernelspec": {
      "name": "python3",
      "display_name": "Python 3"
    },
    "language_info": {
      "name": "python"
    }
  },
  "cells": [
    {
      "cell_type": "markdown",
      "metadata": {
        "id": "view-in-github",
        "colab_type": "text"
      },
      "source": [
        "<a href=\"https://colab.research.google.com/github/b-luminate/b-luminate.githb.io/blob/main/wineClean.ipynb\" target=\"_parent\"><img src=\"https://colab.research.google.com/assets/colab-badge.svg\" alt=\"Open In Colab\"/></a>"
      ]
    },
    {
      "cell_type": "code",
      "execution_count": null,
      "metadata": {
        "colab": {
          "base_uri": "https://localhost:8080/"
        },
        "id": "oxDmXLWh2Z35",
        "outputId": "9833a63d-d139-477c-b9ab-e14966aa91f0"
      },
      "outputs": [
        {
          "output_type": "stream",
          "name": "stdout",
          "text": [
            "Looking in indexes: https://pypi.org/simple, https://us-python.pkg.dev/colab-wheels/public/simple/\n",
            "Requirement already satisfied: pandas in /usr/local/lib/python3.10/dist-packages (1.5.3)\n",
            "Requirement already satisfied: python-dateutil>=2.8.1 in /usr/local/lib/python3.10/dist-packages (from pandas) (2.8.2)\n",
            "Requirement already satisfied: numpy>=1.21.0 in /usr/local/lib/python3.10/dist-packages (from pandas) (1.22.4)\n",
            "Requirement already satisfied: pytz>=2020.1 in /usr/local/lib/python3.10/dist-packages (from pandas) (2022.7.1)\n",
            "Requirement already satisfied: six>=1.5 in /usr/local/lib/python3.10/dist-packages (from python-dateutil>=2.8.1->pandas) (1.16.0)\n"
          ]
        }
      ],
      "source": [
        "pip install pandas\n"
      ]
    },
    {
      "cell_type": "code",
      "source": [
        "import pandas as pd"
      ],
      "metadata": {
        "id": "XfvAuQyg7sh7"
      },
      "execution_count": null,
      "outputs": []
    },
    {
      "cell_type": "code",
      "source": [
        "white_wine = pd.read_csv(\"/White.csv\")"
      ],
      "metadata": {
        "id": "7bVCZrOP8FFW"
      },
      "execution_count": null,
      "outputs": []
    },
    {
      "cell_type": "code",
      "source": [
        "white_wine.head()"
      ],
      "metadata": {
        "colab": {
          "base_uri": "https://localhost:8080/",
          "height": 302
        },
        "id": "MkEp99Tf8jWf",
        "outputId": "a2e3c5a1-75d2-4d22-b810-f53240a9962d"
      },
      "execution_count": null,
      "outputs": [
        {
          "output_type": "execute_result",
          "data": {
            "text/plain": [
              "                      Name  Country                      Region  \\\n",
              "0          Vermentino 2017    Italy                     Toscana   \n",
              "1        Ronco Broilo 2010    Italy  Colli Orientali del Friuli   \n",
              "2  Weisser Schiefer s 2017  Austria               Südburgenland   \n",
              "3          Chardonnay 2018  Germany                 Rheinhessen   \n",
              "4     Maganza Zibibbo 2018    Italy             Terre Siciliane   \n",
              "\n",
              "                    Winery  Rating  NumberOfRatings  Price  Year  \n",
              "0      Famiglia Castellani     3.8               25   5.65  2017  \n",
              "1  Conte d'Attimis Maniago     4.3               25  44.90  2010  \n",
              "2     Weinbau Uwe Schiefer     4.2               25  33.25  2017  \n",
              "3        Krämer - Straight     3.9               25   8.99  2018  \n",
              "4                Luna Gaia     3.9               25   8.60  2018  "
            ],
            "text/html": [
              "\n",
              "  <div id=\"df-4f0f09b2-cec9-4726-9809-2cf80aff94c2\">\n",
              "    <div class=\"colab-df-container\">\n",
              "      <div>\n",
              "<style scoped>\n",
              "    .dataframe tbody tr th:only-of-type {\n",
              "        vertical-align: middle;\n",
              "    }\n",
              "\n",
              "    .dataframe tbody tr th {\n",
              "        vertical-align: top;\n",
              "    }\n",
              "\n",
              "    .dataframe thead th {\n",
              "        text-align: right;\n",
              "    }\n",
              "</style>\n",
              "<table border=\"1\" class=\"dataframe\">\n",
              "  <thead>\n",
              "    <tr style=\"text-align: right;\">\n",
              "      <th></th>\n",
              "      <th>Name</th>\n",
              "      <th>Country</th>\n",
              "      <th>Region</th>\n",
              "      <th>Winery</th>\n",
              "      <th>Rating</th>\n",
              "      <th>NumberOfRatings</th>\n",
              "      <th>Price</th>\n",
              "      <th>Year</th>\n",
              "    </tr>\n",
              "  </thead>\n",
              "  <tbody>\n",
              "    <tr>\n",
              "      <th>0</th>\n",
              "      <td>Vermentino 2017</td>\n",
              "      <td>Italy</td>\n",
              "      <td>Toscana</td>\n",
              "      <td>Famiglia Castellani</td>\n",
              "      <td>3.8</td>\n",
              "      <td>25</td>\n",
              "      <td>5.65</td>\n",
              "      <td>2017</td>\n",
              "    </tr>\n",
              "    <tr>\n",
              "      <th>1</th>\n",
              "      <td>Ronco Broilo 2010</td>\n",
              "      <td>Italy</td>\n",
              "      <td>Colli Orientali del Friuli</td>\n",
              "      <td>Conte d'Attimis Maniago</td>\n",
              "      <td>4.3</td>\n",
              "      <td>25</td>\n",
              "      <td>44.90</td>\n",
              "      <td>2010</td>\n",
              "    </tr>\n",
              "    <tr>\n",
              "      <th>2</th>\n",
              "      <td>Weisser Schiefer s 2017</td>\n",
              "      <td>Austria</td>\n",
              "      <td>Südburgenland</td>\n",
              "      <td>Weinbau Uwe Schiefer</td>\n",
              "      <td>4.2</td>\n",
              "      <td>25</td>\n",
              "      <td>33.25</td>\n",
              "      <td>2017</td>\n",
              "    </tr>\n",
              "    <tr>\n",
              "      <th>3</th>\n",
              "      <td>Chardonnay 2018</td>\n",
              "      <td>Germany</td>\n",
              "      <td>Rheinhessen</td>\n",
              "      <td>Krämer - Straight</td>\n",
              "      <td>3.9</td>\n",
              "      <td>25</td>\n",
              "      <td>8.99</td>\n",
              "      <td>2018</td>\n",
              "    </tr>\n",
              "    <tr>\n",
              "      <th>4</th>\n",
              "      <td>Maganza Zibibbo 2018</td>\n",
              "      <td>Italy</td>\n",
              "      <td>Terre Siciliane</td>\n",
              "      <td>Luna Gaia</td>\n",
              "      <td>3.9</td>\n",
              "      <td>25</td>\n",
              "      <td>8.60</td>\n",
              "      <td>2018</td>\n",
              "    </tr>\n",
              "  </tbody>\n",
              "</table>\n",
              "</div>\n",
              "      <button class=\"colab-df-convert\" onclick=\"convertToInteractive('df-4f0f09b2-cec9-4726-9809-2cf80aff94c2')\"\n",
              "              title=\"Convert this dataframe to an interactive table.\"\n",
              "              style=\"display:none;\">\n",
              "        \n",
              "  <svg xmlns=\"http://www.w3.org/2000/svg\" height=\"24px\"viewBox=\"0 0 24 24\"\n",
              "       width=\"24px\">\n",
              "    <path d=\"M0 0h24v24H0V0z\" fill=\"none\"/>\n",
              "    <path d=\"M18.56 5.44l.94 2.06.94-2.06 2.06-.94-2.06-.94-.94-2.06-.94 2.06-2.06.94zm-11 1L8.5 8.5l.94-2.06 2.06-.94-2.06-.94L8.5 2.5l-.94 2.06-2.06.94zm10 10l.94 2.06.94-2.06 2.06-.94-2.06-.94-.94-2.06-.94 2.06-2.06.94z\"/><path d=\"M17.41 7.96l-1.37-1.37c-.4-.4-.92-.59-1.43-.59-.52 0-1.04.2-1.43.59L10.3 9.45l-7.72 7.72c-.78.78-.78 2.05 0 2.83L4 21.41c.39.39.9.59 1.41.59.51 0 1.02-.2 1.41-.59l7.78-7.78 2.81-2.81c.8-.78.8-2.07 0-2.86zM5.41 20L4 18.59l7.72-7.72 1.47 1.35L5.41 20z\"/>\n",
              "  </svg>\n",
              "      </button>\n",
              "      \n",
              "  <style>\n",
              "    .colab-df-container {\n",
              "      display:flex;\n",
              "      flex-wrap:wrap;\n",
              "      gap: 12px;\n",
              "    }\n",
              "\n",
              "    .colab-df-convert {\n",
              "      background-color: #E8F0FE;\n",
              "      border: none;\n",
              "      border-radius: 50%;\n",
              "      cursor: pointer;\n",
              "      display: none;\n",
              "      fill: #1967D2;\n",
              "      height: 32px;\n",
              "      padding: 0 0 0 0;\n",
              "      width: 32px;\n",
              "    }\n",
              "\n",
              "    .colab-df-convert:hover {\n",
              "      background-color: #E2EBFA;\n",
              "      box-shadow: 0px 1px 2px rgba(60, 64, 67, 0.3), 0px 1px 3px 1px rgba(60, 64, 67, 0.15);\n",
              "      fill: #174EA6;\n",
              "    }\n",
              "\n",
              "    [theme=dark] .colab-df-convert {\n",
              "      background-color: #3B4455;\n",
              "      fill: #D2E3FC;\n",
              "    }\n",
              "\n",
              "    [theme=dark] .colab-df-convert:hover {\n",
              "      background-color: #434B5C;\n",
              "      box-shadow: 0px 1px 3px 1px rgba(0, 0, 0, 0.15);\n",
              "      filter: drop-shadow(0px 1px 2px rgba(0, 0, 0, 0.3));\n",
              "      fill: #FFFFFF;\n",
              "    }\n",
              "  </style>\n",
              "\n",
              "      <script>\n",
              "        const buttonEl =\n",
              "          document.querySelector('#df-4f0f09b2-cec9-4726-9809-2cf80aff94c2 button.colab-df-convert');\n",
              "        buttonEl.style.display =\n",
              "          google.colab.kernel.accessAllowed ? 'block' : 'none';\n",
              "\n",
              "        async function convertToInteractive(key) {\n",
              "          const element = document.querySelector('#df-4f0f09b2-cec9-4726-9809-2cf80aff94c2');\n",
              "          const dataTable =\n",
              "            await google.colab.kernel.invokeFunction('convertToInteractive',\n",
              "                                                     [key], {});\n",
              "          if (!dataTable) return;\n",
              "\n",
              "          const docLinkHtml = 'Like what you see? Visit the ' +\n",
              "            '<a target=\"_blank\" href=https://colab.research.google.com/notebooks/data_table.ipynb>data table notebook</a>'\n",
              "            + ' to learn more about interactive tables.';\n",
              "          element.innerHTML = '';\n",
              "          dataTable['output_type'] = 'display_data';\n",
              "          await google.colab.output.renderOutput(dataTable, element);\n",
              "          const docLink = document.createElement('div');\n",
              "          docLink.innerHTML = docLinkHtml;\n",
              "          element.appendChild(docLink);\n",
              "        }\n",
              "      </script>\n",
              "    </div>\n",
              "  </div>\n",
              "  "
            ]
          },
          "metadata": {},
          "execution_count": 6
        }
      ]
    },
    {
      "cell_type": "code",
      "source": [
        "print(\"Missing values distribution: \")\n",
        "print(white_wine.isnull().mean())\n",
        "print(\"\")"
      ],
      "metadata": {
        "colab": {
          "base_uri": "https://localhost:8080/"
        },
        "id": "DVqhZ88V8pje",
        "outputId": "ba81bdb9-ff9b-4c1c-ff3a-fb837a7d4963"
      },
      "execution_count": null,
      "outputs": [
        {
          "output_type": "stream",
          "name": "stdout",
          "text": [
            "Missing values distribution: \n",
            "Name               0.0\n",
            "Country            0.0\n",
            "Region             0.0\n",
            "Winery             0.0\n",
            "Rating             0.0\n",
            "NumberOfRatings    0.0\n",
            "Price              0.0\n",
            "Year               0.0\n",
            "dtype: float64\n",
            "\n"
          ]
        }
      ]
    },
    {
      "cell_type": "code",
      "source": [
        "print(\"Column datatypes: \")\n",
        "print(white_wine.dtypes)"
      ],
      "metadata": {
        "colab": {
          "base_uri": "https://localhost:8080/"
        },
        "id": "cQIZZwRlt9b6",
        "outputId": "dc93d7d9-20ba-479a-b7c8-4f1ad299e5fa"
      },
      "execution_count": null,
      "outputs": [
        {
          "output_type": "stream",
          "name": "stdout",
          "text": [
            "Column datatypes: \n",
            "Name                object\n",
            "Country             object\n",
            "Region              object\n",
            "Winery              object\n",
            "Rating             float64\n",
            "NumberOfRatings      int64\n",
            "Price              float64\n",
            "Year                object\n",
            "dtype: object\n"
          ]
        }
      ]
    },
    {
      "cell_type": "code",
      "source": [
        "white_wine.isna().sum()"
      ],
      "metadata": {
        "colab": {
          "base_uri": "https://localhost:8080/"
        },
        "id": "sjkqfryyuZeM",
        "outputId": "e350d8ec-cbd8-4677-86bd-0b32f56ec7cb"
      },
      "execution_count": null,
      "outputs": [
        {
          "output_type": "execute_result",
          "data": {
            "text/plain": [
              "Name               0\n",
              "Country            0\n",
              "Region             0\n",
              "Winery             0\n",
              "Rating             0\n",
              "NumberOfRatings    0\n",
              "Price              0\n",
              "Year               0\n",
              "dtype: int64"
            ]
          },
          "metadata": {},
          "execution_count": 9
        }
      ]
    }
  ]
}