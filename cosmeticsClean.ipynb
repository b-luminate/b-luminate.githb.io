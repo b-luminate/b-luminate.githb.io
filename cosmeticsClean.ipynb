{
  "nbformat": 4,
  "nbformat_minor": 0,
  "metadata": {
    "colab": {
      "provenance": [],
      "authorship_tag": "ABX9TyMw422oqViYyOHn+elt0UOU",
      "include_colab_link": true
    },
    "kernelspec": {
      "name": "python3",
      "display_name": "Python 3"
    },
    "language_info": {
      "name": "python"
    }
  },
  "cells": [
    {
      "cell_type": "markdown",
      "metadata": {
        "id": "view-in-github",
        "colab_type": "text"
      },
      "source": [
        "<a href=\"https://colab.research.google.com/github/b-luminate/b-luminate.githb.io/blob/main/cosmeticsClean.ipynb\" target=\"_parent\"><img src=\"https://colab.research.google.com/assets/colab-badge.svg\" alt=\"Open In Colab\"/></a>"
      ]
    },
    {
      "cell_type": "code",
      "execution_count": null,
      "metadata": {
        "id": "hNmP50_yCoKq"
      },
      "outputs": [],
      "source": [
        "import pandas as pd\n",
        "import io\n",
        "import numpy as np"
      ]
    },
    {
      "cell_type": "code",
      "source": [
        "from google.colab import drive\n",
        "drive.mount('/content/drive')\n"
      ],
      "metadata": {
        "colab": {
          "base_uri": "https://localhost:8080/"
        },
        "id": "mvl7dQ1QTBuZ",
        "outputId": "6598198a-0077-4a40-a12b-3aee7c50f636"
      },
      "execution_count": null,
      "outputs": [
        {
          "output_type": "stream",
          "name": "stdout",
          "text": [
            "Mounted at /content/drive\n"
          ]
        }
      ]
    },
    {
      "cell_type": "code",
      "source": [
        "import pandas as pd\n",
        "\n",
        "path = '/content/drive/My Drive/cosmetics.csv'\n",
        "df = pd.read_csv(path)\n"
      ],
      "metadata": {
        "id": "FwVsxyxFTOV0"
      },
      "execution_count": null,
      "outputs": []
    },
    {
      "cell_type": "code",
      "source": [
        "df.head()"
      ],
      "metadata": {
        "colab": {
          "base_uri": "https://localhost:8080/",
          "height": 513
        },
        "id": "ihGqL4inW8W-",
        "outputId": "b8b13964-afd2-4bec-bc7e-4bd5f499c5b0"
      },
      "execution_count": null,
      "outputs": [
        {
          "output_type": "execute_result",
          "data": {
            "text/plain": [
              "         Label           Brand                                           Name  \\\n",
              "0  Moisturizer          LA MER                                Crème de la Mer   \n",
              "1  Moisturizer           SK-II                       Facial Treatment Essence   \n",
              "2  Moisturizer  DRUNK ELEPHANT                     Protini™ Polypeptide Cream   \n",
              "3  Moisturizer          LA MER                    The Moisturizing Soft Cream   \n",
              "4  Moisturizer    IT COSMETICS  Your Skin But Better™ CC+™ Cream with SPF 50+   \n",
              "\n",
              "   Price  Rank                                        Ingredients  \\\n",
              "0    175   4.1  Algae (Seaweed) Extract, Mineral Oil, Petrolat...   \n",
              "1    179   4.1  Galactomyces Ferment Filtrate (Pitera), Butyle...   \n",
              "2     68   4.4  Water, Dicaprylyl Carbonate, Glycerin, Ceteary...   \n",
              "3    175   3.8  Algae (Seaweed) Extract, Cyclopentasiloxane, P...   \n",
              "4     38   4.1  Water, Snail Secretion Filtrate, Phenyl Trimet...   \n",
              "\n",
              "   Combination  Dry  Normal  Oily  Sensitive  \n",
              "0            1    1       1     1          1  \n",
              "1            1    1       1     1          1  \n",
              "2            1    1       1     1          0  \n",
              "3            1    1       1     1          1  \n",
              "4            1    1       1     1          1  "
            ],
            "text/html": [
              "\n",
              "  <div id=\"df-5f58acf2-f86b-410c-b634-e1beb71fa269\">\n",
              "    <div class=\"colab-df-container\">\n",
              "      <div>\n",
              "<style scoped>\n",
              "    .dataframe tbody tr th:only-of-type {\n",
              "        vertical-align: middle;\n",
              "    }\n",
              "\n",
              "    .dataframe tbody tr th {\n",
              "        vertical-align: top;\n",
              "    }\n",
              "\n",
              "    .dataframe thead th {\n",
              "        text-align: right;\n",
              "    }\n",
              "</style>\n",
              "<table border=\"1\" class=\"dataframe\">\n",
              "  <thead>\n",
              "    <tr style=\"text-align: right;\">\n",
              "      <th></th>\n",
              "      <th>Label</th>\n",
              "      <th>Brand</th>\n",
              "      <th>Name</th>\n",
              "      <th>Price</th>\n",
              "      <th>Rank</th>\n",
              "      <th>Ingredients</th>\n",
              "      <th>Combination</th>\n",
              "      <th>Dry</th>\n",
              "      <th>Normal</th>\n",
              "      <th>Oily</th>\n",
              "      <th>Sensitive</th>\n",
              "    </tr>\n",
              "  </thead>\n",
              "  <tbody>\n",
              "    <tr>\n",
              "      <th>0</th>\n",
              "      <td>Moisturizer</td>\n",
              "      <td>LA MER</td>\n",
              "      <td>Crème de la Mer</td>\n",
              "      <td>175</td>\n",
              "      <td>4.1</td>\n",
              "      <td>Algae (Seaweed) Extract, Mineral Oil, Petrolat...</td>\n",
              "      <td>1</td>\n",
              "      <td>1</td>\n",
              "      <td>1</td>\n",
              "      <td>1</td>\n",
              "      <td>1</td>\n",
              "    </tr>\n",
              "    <tr>\n",
              "      <th>1</th>\n",
              "      <td>Moisturizer</td>\n",
              "      <td>SK-II</td>\n",
              "      <td>Facial Treatment Essence</td>\n",
              "      <td>179</td>\n",
              "      <td>4.1</td>\n",
              "      <td>Galactomyces Ferment Filtrate (Pitera), Butyle...</td>\n",
              "      <td>1</td>\n",
              "      <td>1</td>\n",
              "      <td>1</td>\n",
              "      <td>1</td>\n",
              "      <td>1</td>\n",
              "    </tr>\n",
              "    <tr>\n",
              "      <th>2</th>\n",
              "      <td>Moisturizer</td>\n",
              "      <td>DRUNK ELEPHANT</td>\n",
              "      <td>Protini™ Polypeptide Cream</td>\n",
              "      <td>68</td>\n",
              "      <td>4.4</td>\n",
              "      <td>Water, Dicaprylyl Carbonate, Glycerin, Ceteary...</td>\n",
              "      <td>1</td>\n",
              "      <td>1</td>\n",
              "      <td>1</td>\n",
              "      <td>1</td>\n",
              "      <td>0</td>\n",
              "    </tr>\n",
              "    <tr>\n",
              "      <th>3</th>\n",
              "      <td>Moisturizer</td>\n",
              "      <td>LA MER</td>\n",
              "      <td>The Moisturizing Soft Cream</td>\n",
              "      <td>175</td>\n",
              "      <td>3.8</td>\n",
              "      <td>Algae (Seaweed) Extract, Cyclopentasiloxane, P...</td>\n",
              "      <td>1</td>\n",
              "      <td>1</td>\n",
              "      <td>1</td>\n",
              "      <td>1</td>\n",
              "      <td>1</td>\n",
              "    </tr>\n",
              "    <tr>\n",
              "      <th>4</th>\n",
              "      <td>Moisturizer</td>\n",
              "      <td>IT COSMETICS</td>\n",
              "      <td>Your Skin But Better™ CC+™ Cream with SPF 50+</td>\n",
              "      <td>38</td>\n",
              "      <td>4.1</td>\n",
              "      <td>Water, Snail Secretion Filtrate, Phenyl Trimet...</td>\n",
              "      <td>1</td>\n",
              "      <td>1</td>\n",
              "      <td>1</td>\n",
              "      <td>1</td>\n",
              "      <td>1</td>\n",
              "    </tr>\n",
              "  </tbody>\n",
              "</table>\n",
              "</div>\n",
              "      <button class=\"colab-df-convert\" onclick=\"convertToInteractive('df-5f58acf2-f86b-410c-b634-e1beb71fa269')\"\n",
              "              title=\"Convert this dataframe to an interactive table.\"\n",
              "              style=\"display:none;\">\n",
              "        \n",
              "  <svg xmlns=\"http://www.w3.org/2000/svg\" height=\"24px\"viewBox=\"0 0 24 24\"\n",
              "       width=\"24px\">\n",
              "    <path d=\"M0 0h24v24H0V0z\" fill=\"none\"/>\n",
              "    <path d=\"M18.56 5.44l.94 2.06.94-2.06 2.06-.94-2.06-.94-.94-2.06-.94 2.06-2.06.94zm-11 1L8.5 8.5l.94-2.06 2.06-.94-2.06-.94L8.5 2.5l-.94 2.06-2.06.94zm10 10l.94 2.06.94-2.06 2.06-.94-2.06-.94-.94-2.06-.94 2.06-2.06.94z\"/><path d=\"M17.41 7.96l-1.37-1.37c-.4-.4-.92-.59-1.43-.59-.52 0-1.04.2-1.43.59L10.3 9.45l-7.72 7.72c-.78.78-.78 2.05 0 2.83L4 21.41c.39.39.9.59 1.41.59.51 0 1.02-.2 1.41-.59l7.78-7.78 2.81-2.81c.8-.78.8-2.07 0-2.86zM5.41 20L4 18.59l7.72-7.72 1.47 1.35L5.41 20z\"/>\n",
              "  </svg>\n",
              "      </button>\n",
              "      \n",
              "  <style>\n",
              "    .colab-df-container {\n",
              "      display:flex;\n",
              "      flex-wrap:wrap;\n",
              "      gap: 12px;\n",
              "    }\n",
              "\n",
              "    .colab-df-convert {\n",
              "      background-color: #E8F0FE;\n",
              "      border: none;\n",
              "      border-radius: 50%;\n",
              "      cursor: pointer;\n",
              "      display: none;\n",
              "      fill: #1967D2;\n",
              "      height: 32px;\n",
              "      padding: 0 0 0 0;\n",
              "      width: 32px;\n",
              "    }\n",
              "\n",
              "    .colab-df-convert:hover {\n",
              "      background-color: #E2EBFA;\n",
              "      box-shadow: 0px 1px 2px rgba(60, 64, 67, 0.3), 0px 1px 3px 1px rgba(60, 64, 67, 0.15);\n",
              "      fill: #174EA6;\n",
              "    }\n",
              "\n",
              "    [theme=dark] .colab-df-convert {\n",
              "      background-color: #3B4455;\n",
              "      fill: #D2E3FC;\n",
              "    }\n",
              "\n",
              "    [theme=dark] .colab-df-convert:hover {\n",
              "      background-color: #434B5C;\n",
              "      box-shadow: 0px 1px 3px 1px rgba(0, 0, 0, 0.15);\n",
              "      filter: drop-shadow(0px 1px 2px rgba(0, 0, 0, 0.3));\n",
              "      fill: #FFFFFF;\n",
              "    }\n",
              "  </style>\n",
              "\n",
              "      <script>\n",
              "        const buttonEl =\n",
              "          document.querySelector('#df-5f58acf2-f86b-410c-b634-e1beb71fa269 button.colab-df-convert');\n",
              "        buttonEl.style.display =\n",
              "          google.colab.kernel.accessAllowed ? 'block' : 'none';\n",
              "\n",
              "        async function convertToInteractive(key) {\n",
              "          const element = document.querySelector('#df-5f58acf2-f86b-410c-b634-e1beb71fa269');\n",
              "          const dataTable =\n",
              "            await google.colab.kernel.invokeFunction('convertToInteractive',\n",
              "                                                     [key], {});\n",
              "          if (!dataTable) return;\n",
              "\n",
              "          const docLinkHtml = 'Like what you see? Visit the ' +\n",
              "            '<a target=\"_blank\" href=https://colab.research.google.com/notebooks/data_table.ipynb>data table notebook</a>'\n",
              "            + ' to learn more about interactive tables.';\n",
              "          element.innerHTML = '';\n",
              "          dataTable['output_type'] = 'display_data';\n",
              "          await google.colab.output.renderOutput(dataTable, element);\n",
              "          const docLink = document.createElement('div');\n",
              "          docLink.innerHTML = docLinkHtml;\n",
              "          element.appendChild(docLink);\n",
              "        }\n",
              "      </script>\n",
              "    </div>\n",
              "  </div>\n",
              "  "
            ]
          },
          "metadata": {},
          "execution_count": 6
        }
      ]
    },
    {
      "cell_type": "code",
      "source": [
        "print(\"Missing values distribution: \")\n",
        "print(df.isnull().mean())\n",
        "print(\"\")"
      ],
      "metadata": {
        "colab": {
          "base_uri": "https://localhost:8080/"
        },
        "id": "vU0Lqy6wXGIm",
        "outputId": "bd9822b1-a253-4e5e-9e22-21ead68ab4c3"
      },
      "execution_count": null,
      "outputs": [
        {
          "output_type": "stream",
          "name": "stdout",
          "text": [
            "Missing values distribution: \n",
            "Label          0.0\n",
            "Brand          0.0\n",
            "Name           0.0\n",
            "Price          0.0\n",
            "Rank           0.0\n",
            "Ingredients    0.0\n",
            "Combination    0.0\n",
            "Dry            0.0\n",
            "Normal         0.0\n",
            "Oily           0.0\n",
            "Sensitive      0.0\n",
            "dtype: float64\n",
            "\n"
          ]
        }
      ]
    },
    {
      "cell_type": "code",
      "source": [
        "df.isna().sum()"
      ],
      "metadata": {
        "colab": {
          "base_uri": "https://localhost:8080/"
        },
        "id": "UIu1cYXHXMXN",
        "outputId": "6432ca17-0e96-4349-c351-8167e2ddb983"
      },
      "execution_count": null,
      "outputs": [
        {
          "output_type": "execute_result",
          "data": {
            "text/plain": [
              "Label          0\n",
              "Brand          0\n",
              "Name           0\n",
              "Price          0\n",
              "Rank           0\n",
              "Ingredients    0\n",
              "Combination    0\n",
              "Dry            0\n",
              "Normal         0\n",
              "Oily           0\n",
              "Sensitive      0\n",
              "dtype: int64"
            ]
          },
          "metadata": {},
          "execution_count": 8
        }
      ]
    },
    {
      "cell_type": "code",
      "source": [
        "for col in df.columns:\n",
        "    pct_missing = np.mean(df[col].isnull())\n",
        "    print('{} - {}%'.format(col, round(pct_missing*100)))"
      ],
      "metadata": {
        "colab": {
          "base_uri": "https://localhost:8080/"
        },
        "id": "MyeVOcgkXtXf",
        "outputId": "822b6725-dc06-4795-c362-e3d409bc54bc"
      },
      "execution_count": null,
      "outputs": [
        {
          "output_type": "stream",
          "name": "stdout",
          "text": [
            "Label - 0%\n",
            "Brand - 0%\n",
            "Name - 0%\n",
            "Price - 0%\n",
            "Rank - 0%\n",
            "Ingredients - 0%\n",
            "Combination - 0%\n",
            "Dry - 0%\n",
            "Normal - 0%\n",
            "Oily - 0%\n",
            "Sensitive - 0%\n"
          ]
        }
      ]
    }
  ]
}